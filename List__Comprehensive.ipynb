{
  "cells": [
    {
      "cell_type": "markdown",
      "id": "9dcb16b3",
      "metadata": {
        "id": "9dcb16b3"
      },
      "source": [
        "# List Comprehensive"
      ]
    },
    {
      "cell_type": "code",
      "execution_count": null,
      "id": "d7966e5d",
      "metadata": {
        "id": "d7966e5d"
      },
      "outputs": [],
      "source": [
        "import numpy as np\n",
        "import pandas as pd"
      ]
    },
    {
      "cell_type": "code",
      "execution_count": null,
      "id": "911d1455",
      "metadata": {
        "id": "911d1455"
      },
      "outputs": [],
      "source": [
        "x = [1,2,3,4,5]"
      ]
    },
    {
      "cell_type": "code",
      "execution_count": null,
      "id": "dddeb1a0",
      "metadata": {
        "id": "dddeb1a0",
        "outputId": "e4d36cd6-7ca9-40ba-dede-5338caa418a3"
      },
      "outputs": [
        {
          "data": {
            "text/plain": [
              "5"
            ]
          },
          "execution_count": 3,
          "metadata": {},
          "output_type": "execute_result"
        }
      ],
      "source": [
        "len(x)"
      ]
    },
    {
      "cell_type": "code",
      "execution_count": null,
      "id": "f4695e68",
      "metadata": {
        "id": "f4695e68"
      },
      "outputs": [],
      "source": [
        "out = []\n",
        "for i in x:\n",
        "    out.append(i**2)"
      ]
    },
    {
      "cell_type": "code",
      "execution_count": null,
      "id": "09a2b32d",
      "metadata": {
        "id": "09a2b32d",
        "outputId": "3d9f39c0-091b-4f88-dcdc-9558f4df0819"
      },
      "outputs": [
        {
          "data": {
            "text/plain": [
              "[1, 4, 9, 16, 25]"
            ]
          },
          "execution_count": 5,
          "metadata": {},
          "output_type": "execute_result"
        }
      ],
      "source": [
        "out"
      ]
    },
    {
      "cell_type": "code",
      "execution_count": null,
      "id": "89d471e2",
      "metadata": {
        "id": "89d471e2",
        "outputId": "8ab759bd-c804-44df-f2b4-14b093265a3c"
      },
      "outputs": [
        {
          "data": {
            "text/plain": [
              "[1, 4, 9, 16, 25]"
            ]
          },
          "execution_count": 6,
          "metadata": {},
          "output_type": "execute_result"
        }
      ],
      "source": [
        "[i**2 for i in x]"
      ]
    },
    {
      "cell_type": "code",
      "execution_count": null,
      "id": "8b72a327",
      "metadata": {
        "id": "8b72a327"
      },
      "outputs": [],
      "source": [
        "out1 = [i**3 for i in x]"
      ]
    },
    {
      "cell_type": "code",
      "execution_count": null,
      "id": "17becd83",
      "metadata": {
        "id": "17becd83",
        "outputId": "59125bac-52db-4bfd-88aa-72fa55337b4e"
      },
      "outputs": [
        {
          "data": {
            "text/plain": [
              "[1, 8, 27, 64, 125]"
            ]
          },
          "execution_count": 8,
          "metadata": {},
          "output_type": "execute_result"
        }
      ],
      "source": [
        "out1"
      ]
    },
    {
      "cell_type": "code",
      "execution_count": null,
      "id": "41c5f024",
      "metadata": {
        "id": "41c5f024"
      },
      "outputs": [],
      "source": [
        "def add_1(a,b):\n",
        "    c = a+b\n",
        "    return c"
      ]
    },
    {
      "cell_type": "code",
      "execution_count": null,
      "id": "b23a5887",
      "metadata": {
        "id": "b23a5887",
        "outputId": "138c753e-611a-4d6d-c886-3181ee4a2f8d"
      },
      "outputs": [
        {
          "data": {
            "text/plain": [
              "function"
            ]
          },
          "execution_count": 10,
          "metadata": {},
          "output_type": "execute_result"
        }
      ],
      "source": [
        "type(add_1)"
      ]
    },
    {
      "cell_type": "code",
      "execution_count": null,
      "id": "1664ea63",
      "metadata": {
        "id": "1664ea63",
        "outputId": "cc739301-ed58-4d46-f015-2aec094d019f"
      },
      "outputs": [
        {
          "data": {
            "text/plain": [
              "39"
            ]
          },
          "execution_count": 11,
          "metadata": {},
          "output_type": "execute_result"
        }
      ],
      "source": [
        "add_1 (10,29)"
      ]
    },
    {
      "cell_type": "code",
      "execution_count": null,
      "id": "0930862d",
      "metadata": {
        "id": "0930862d",
        "outputId": "455a6953-2694-4c91-9249-3a8d359bfc84"
      },
      "outputs": [
        {
          "data": {
            "text/plain": [
              "666"
            ]
          },
          "execution_count": 12,
          "metadata": {},
          "output_type": "execute_result"
        }
      ],
      "source": [
        "add_1(435,231)"
      ]
    },
    {
      "cell_type": "code",
      "execution_count": null,
      "id": "ae0d478c",
      "metadata": {
        "id": "ae0d478c"
      },
      "outputs": [],
      "source": [
        "def royal(ravi): \n",
        "    print(ravi)"
      ]
    },
    {
      "cell_type": "code",
      "execution_count": null,
      "id": "80c5ccd6",
      "metadata": {
        "id": "80c5ccd6",
        "outputId": "66ae647c-b254-4f29-9501-cc6b899ed892"
      },
      "outputs": [
        {
          "name": "stdout",
          "output_type": "stream",
          "text": [
            "jija\n"
          ]
        }
      ],
      "source": [
        "royal('jija')"
      ]
    },
    {
      "cell_type": "code",
      "execution_count": null,
      "id": "6547c753",
      "metadata": {
        "id": "6547c753"
      },
      "outputs": [],
      "source": [
        "def square(num):\n",
        "    return num**2"
      ]
    },
    {
      "cell_type": "code",
      "execution_count": null,
      "id": "991838dc",
      "metadata": {
        "id": "991838dc",
        "outputId": "0d77d136-af8f-4048-c88c-b9e2520e6b8b"
      },
      "outputs": [
        {
          "data": {
            "text/plain": [
              "81"
            ]
          },
          "execution_count": 16,
          "metadata": {},
          "output_type": "execute_result"
        }
      ],
      "source": [
        "square(9)"
      ]
    },
    {
      "cell_type": "code",
      "execution_count": null,
      "id": "afc3ed64",
      "metadata": {
        "id": "afc3ed64",
        "outputId": "92f8bebb-01c9-4c04-d4fe-43ac5764f3b4"
      },
      "outputs": [
        {
          "data": {
            "text/plain": [
              "64"
            ]
          },
          "execution_count": 17,
          "metadata": {},
          "output_type": "execute_result"
        }
      ],
      "source": [
        "square(8)"
      ]
    },
    {
      "cell_type": "code",
      "execution_count": null,
      "id": "4131dd98",
      "metadata": {
        "id": "4131dd98"
      },
      "outputs": [],
      "source": [
        "x = [3,4,2,5,6,7]"
      ]
    },
    {
      "cell_type": "code",
      "execution_count": null,
      "id": "4810e0b1",
      "metadata": {
        "id": "4810e0b1",
        "outputId": "745e10a3-16c6-4850-fc52-2c9ad0b5234b"
      },
      "outputs": [
        {
          "data": {
            "text/plain": [
              "[3, 4, 2, 5, 6, 7]"
            ]
          },
          "execution_count": 19,
          "metadata": {},
          "output_type": "execute_result"
        }
      ],
      "source": [
        "x"
      ]
    },
    {
      "cell_type": "code",
      "execution_count": null,
      "id": "e50c4dde",
      "metadata": {
        "id": "e50c4dde",
        "outputId": "32c01f4f-7e7b-411d-852d-06c895b243cc"
      },
      "outputs": [
        {
          "data": {
            "text/plain": [
              "<map at 0x208e9f05910>"
            ]
          },
          "execution_count": 20,
          "metadata": {},
          "output_type": "execute_result"
        }
      ],
      "source": [
        "map(square,x)"
      ]
    },
    {
      "cell_type": "code",
      "execution_count": null,
      "id": "d0a4ea7f",
      "metadata": {
        "id": "d0a4ea7f",
        "outputId": "4c381b96-d8bd-4f97-b4cd-63ed7a0d55bf"
      },
      "outputs": [
        {
          "data": {
            "text/plain": [
              "[9, 16, 4, 25, 36, 49]"
            ]
          },
          "execution_count": 21,
          "metadata": {},
          "output_type": "execute_result"
        }
      ],
      "source": [
        "list(map(square,x))"
      ]
    },
    {
      "cell_type": "code",
      "execution_count": null,
      "id": "88e767ac",
      "metadata": {
        "id": "88e767ac"
      },
      "outputs": [],
      "source": [
        "def times2(num):return num**2"
      ]
    },
    {
      "cell_type": "code",
      "execution_count": null,
      "id": "ee869275",
      "metadata": {
        "id": "ee869275",
        "outputId": "73cb476d-e018-4082-f171-4a977ed3b1f3"
      },
      "outputs": [
        {
          "data": {
            "text/plain": [
              "4"
            ]
          },
          "execution_count": 23,
          "metadata": {},
          "output_type": "execute_result"
        }
      ],
      "source": [
        "times2(2)"
      ]
    },
    {
      "cell_type": "code",
      "execution_count": null,
      "id": "ca36c9d7",
      "metadata": {
        "id": "ca36c9d7",
        "outputId": "0885fb21-50b9-428b-c01b-c53afae649f2"
      },
      "outputs": [
        {
          "data": {
            "text/plain": [
              "<function __main__.<lambda>(num)>"
            ]
          },
          "execution_count": 24,
          "metadata": {},
          "output_type": "execute_result"
        }
      ],
      "source": [
        "lambda num:num**2"
      ]
    },
    {
      "cell_type": "code",
      "execution_count": null,
      "id": "440391aa",
      "metadata": {
        "id": "440391aa"
      },
      "outputs": [],
      "source": [
        "f= lambda num:num**2"
      ]
    },
    {
      "cell_type": "code",
      "execution_count": null,
      "id": "9a9087c2",
      "metadata": {
        "id": "9a9087c2",
        "outputId": "1783fdaa-7a53-43aa-a3e9-d65be2839dcd"
      },
      "outputs": [
        {
          "data": {
            "text/plain": [
              "16"
            ]
          },
          "execution_count": 26,
          "metadata": {},
          "output_type": "execute_result"
        }
      ],
      "source": [
        "f(4)"
      ]
    },
    {
      "cell_type": "code",
      "execution_count": null,
      "id": "24484db0",
      "metadata": {
        "id": "24484db0",
        "outputId": "b2af5450-d9b1-443d-d4f6-731e735eaa58"
      },
      "outputs": [
        {
          "data": {
            "text/plain": [
              "[9, 16, 4, 25, 36, 49]"
            ]
          },
          "execution_count": 27,
          "metadata": {},
          "output_type": "execute_result"
        }
      ],
      "source": [
        "list (map(f,x))"
      ]
    },
    {
      "cell_type": "code",
      "execution_count": null,
      "id": "d137951d",
      "metadata": {
        "id": "d137951d",
        "outputId": "84270a93-e246-4519-c880-ad5ef725d9f2"
      },
      "outputs": [
        {
          "data": {
            "text/plain": [
              "[27, 64, 8, 125, 216, 343]"
            ]
          },
          "execution_count": 28,
          "metadata": {},
          "output_type": "execute_result"
        }
      ],
      "source": [
        "list(map(lambda num:num**3,x))"
      ]
    },
    {
      "cell_type": "code",
      "execution_count": null,
      "id": "d6058261",
      "metadata": {
        "id": "d6058261"
      },
      "outputs": [],
      "source": [
        "#pip install pytube"
      ]
    },
    {
      "cell_type": "code",
      "execution_count": null,
      "id": "37ddbcee",
      "metadata": {
        "id": "37ddbcee"
      },
      "outputs": [],
      "source": [
        ""
      ]
    }
  ],
  "metadata": {
    "kernelspec": {
      "display_name": "Python 3",
      "language": "python",
      "name": "python3"
    },
    "language_info": {
      "codemirror_mode": {
        "name": "ipython",
        "version": 3
      },
      "file_extension": ".py",
      "mimetype": "text/x-python",
      "name": "python",
      "nbconvert_exporter": "python",
      "pygments_lexer": "ipython3",
      "version": "3.8.8"
    },
    "colab": {
      "name": "List _Comprehensive.ipynb",
      "provenance": []
    }
  },
  "nbformat": 4,
  "nbformat_minor": 5
}