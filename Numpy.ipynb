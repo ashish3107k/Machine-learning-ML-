{
  "cells": [
    {
      "cell_type": "code",
      "execution_count": null,
      "id": "41e5183b",
      "metadata": {
        "id": "41e5183b"
      },
      "outputs": [],
      "source": [
        "import numpy as np"
      ]
    },
    {
      "cell_type": "code",
      "execution_count": null,
      "id": "5f40e8f9",
      "metadata": {
        "id": "5f40e8f9"
      },
      "outputs": [],
      "source": [
        "arr=np.array([1,3,4,6,4])"
      ]
    },
    {
      "cell_type": "code",
      "execution_count": null,
      "id": "bf460b9a",
      "metadata": {
        "id": "bf460b9a"
      },
      "outputs": [],
      "source": [
        ""
      ]
    },
    {
      "cell_type": "code",
      "execution_count": null,
      "id": "057d0110",
      "metadata": {
        "id": "057d0110",
        "outputId": "cf7d0736-7e5f-4b0b-bafd-4e8af6eec4f7"
      },
      "outputs": [
        {
          "data": {
            "text/plain": [
              "array([1, 3, 4, 6, 4])"
            ]
          },
          "execution_count": 5,
          "metadata": {},
          "output_type": "execute_result"
        }
      ],
      "source": [
        "arr"
      ]
    },
    {
      "cell_type": "code",
      "execution_count": null,
      "id": "c4772af0",
      "metadata": {
        "id": "c4772af0"
      },
      "outputs": [],
      "source": [
        "arr2=np.array([[2,5,3],[5,6,2],[7,88,21]])"
      ]
    },
    {
      "cell_type": "code",
      "execution_count": null,
      "id": "4517f852",
      "metadata": {
        "id": "4517f852",
        "outputId": "b1b1cbd2-e3d3-48b0-fc7d-5ce42ad7a1b3"
      },
      "outputs": [
        {
          "data": {
            "text/plain": [
              "array([[ 2,  5,  3],\n",
              "       [ 5,  6,  2],\n",
              "       [ 7, 88, 21]])"
            ]
          },
          "execution_count": 10,
          "metadata": {},
          "output_type": "execute_result"
        }
      ],
      "source": [
        "arr2"
      ]
    },
    {
      "cell_type": "code",
      "execution_count": null,
      "id": "bd134559",
      "metadata": {
        "id": "bd134559",
        "outputId": "48f83c50-7992-4098-82e5-316c37417133"
      },
      "outputs": [
        {
          "data": {
            "text/plain": [
              "(5,)"
            ]
          },
          "execution_count": 11,
          "metadata": {},
          "output_type": "execute_result"
        }
      ],
      "source": [
        "arr.shape"
      ]
    },
    {
      "cell_type": "code",
      "execution_count": null,
      "id": "26503b69",
      "metadata": {
        "id": "26503b69",
        "outputId": "ca1c5765-71e9-484d-fec5-8264d763511f"
      },
      "outputs": [
        {
          "data": {
            "text/plain": [
              "(3, 3)"
            ]
          },
          "execution_count": 12,
          "metadata": {},
          "output_type": "execute_result"
        }
      ],
      "source": [
        "arr2.shape"
      ]
    },
    {
      "cell_type": "code",
      "execution_count": null,
      "id": "d4f43b04",
      "metadata": {
        "id": "d4f43b04"
      },
      "outputs": [],
      "source": [
        "list=[2,3,63,32,13,42]"
      ]
    },
    {
      "cell_type": "code",
      "execution_count": null,
      "id": "cee3105f",
      "metadata": {
        "id": "cee3105f",
        "outputId": "b22bfd9c-f848-4e91-9d1c-f27d3a62c3ec"
      },
      "outputs": [
        {
          "data": {
            "text/plain": [
              "array([ 2,  3, 63, 32, 13, 42])"
            ]
          },
          "execution_count": 15,
          "metadata": {},
          "output_type": "execute_result"
        }
      ],
      "source": [
        "np.array(list)"
      ]
    },
    {
      "cell_type": "code",
      "execution_count": null,
      "id": "1fc7c4c7",
      "metadata": {
        "id": "1fc7c4c7"
      },
      "outputs": [],
      "source": [
        "list2=[[1,2,4,3],[23,4,4,2]]"
      ]
    },
    {
      "cell_type": "code",
      "execution_count": null,
      "id": "4b32d97f",
      "metadata": {
        "id": "4b32d97f"
      },
      "outputs": [],
      "source": [
        "arr4=np.array(list2)"
      ]
    },
    {
      "cell_type": "code",
      "execution_count": null,
      "id": "4e409b92",
      "metadata": {
        "id": "4e409b92",
        "outputId": "718d6557-6587-4e64-b659-c2f632326fe0"
      },
      "outputs": [
        {
          "data": {
            "text/plain": [
              "(2, 4)"
            ]
          },
          "execution_count": 20,
          "metadata": {},
          "output_type": "execute_result"
        }
      ],
      "source": [
        "arr4.shape"
      ]
    },
    {
      "cell_type": "code",
      "execution_count": null,
      "id": "2dc3ff6a",
      "metadata": {
        "id": "2dc3ff6a",
        "outputId": "5d3837f8-3c1d-463a-f95c-527aa1d45652"
      },
      "outputs": [
        {
          "data": {
            "text/plain": [
              "array([[ 1,  2,  4,  3],\n",
              "       [23,  4,  4,  2]])"
            ]
          },
          "execution_count": 21,
          "metadata": {},
          "output_type": "execute_result"
        }
      ],
      "source": [
        "arr4"
      ]
    },
    {
      "cell_type": "code",
      "execution_count": null,
      "id": "c4cf8f71",
      "metadata": {
        "id": "c4cf8f71",
        "outputId": "ee432595-f662-4408-b11c-180dc4a036fc"
      },
      "outputs": [
        {
          "data": {
            "text/plain": [
              "array([ 1,  2,  3,  4,  5,  6,  7,  8,  9, 10, 11])"
            ]
          },
          "execution_count": 33,
          "metadata": {},
          "output_type": "execute_result"
        }
      ],
      "source": [
        "np.arange(1,12)"
      ]
    },
    {
      "cell_type": "code",
      "execution_count": null,
      "id": "e1a8221a",
      "metadata": {
        "id": "e1a8221a",
        "outputId": "aca8756d-94eb-4fda-d71e-eaa44b5059fd"
      },
      "outputs": [
        {
          "data": {
            "text/plain": [
              "array([1, 5, 9])"
            ]
          },
          "execution_count": 26,
          "metadata": {},
          "output_type": "execute_result"
        }
      ],
      "source": [
        "np.arange(1,12,4)"
      ]
    },
    {
      "cell_type": "code",
      "execution_count": null,
      "id": "8473f171",
      "metadata": {
        "id": "8473f171",
        "outputId": "84f650e8-f95a-45ea-9906-ab0ee996696e"
      },
      "outputs": [
        {
          "data": {
            "text/plain": [
              "array([0., 0., 0., 0., 0., 0., 0.])"
            ]
          },
          "execution_count": 27,
          "metadata": {},
          "output_type": "execute_result"
        }
      ],
      "source": [
        "np.zeros(7)"
      ]
    },
    {
      "cell_type": "code",
      "execution_count": null,
      "id": "007378bb",
      "metadata": {
        "id": "007378bb",
        "outputId": "21933e91-05b6-4dc9-e82d-0d4308068edf"
      },
      "outputs": [
        {
          "data": {
            "text/plain": [
              "array([[0., 0., 0.],\n",
              "       [0., 0., 0.],\n",
              "       [0., 0., 0.],\n",
              "       [0., 0., 0.]])"
            ]
          },
          "execution_count": 28,
          "metadata": {},
          "output_type": "execute_result"
        }
      ],
      "source": [
        "np.zeros([4,3])"
      ]
    },
    {
      "cell_type": "code",
      "execution_count": null,
      "id": "b210fc49",
      "metadata": {
        "id": "b210fc49",
        "outputId": "1abb14df-26cd-47e3-fd6c-a4b6ff14aac5"
      },
      "outputs": [
        {
          "data": {
            "text/plain": [
              "array([1., 1., 1., 1., 1., 1., 1.])"
            ]
          },
          "execution_count": 29,
          "metadata": {},
          "output_type": "execute_result"
        }
      ],
      "source": [
        "np.ones(7)"
      ]
    },
    {
      "cell_type": "code",
      "execution_count": null,
      "id": "3bad2350",
      "metadata": {
        "id": "3bad2350",
        "outputId": "9d2affc7-d192-42fb-fd15-abc6afc2f03d"
      },
      "outputs": [
        {
          "data": {
            "text/plain": [
              "array([[1., 1., 1., 1., 1.],\n",
              "       [1., 1., 1., 1., 1.],\n",
              "       [1., 1., 1., 1., 1.],\n",
              "       [1., 1., 1., 1., 1.],\n",
              "       [1., 1., 1., 1., 1.]])"
            ]
          },
          "execution_count": 31,
          "metadata": {},
          "output_type": "execute_result"
        }
      ],
      "source": [
        "np.ones((5,5))"
      ]
    },
    {
      "cell_type": "code",
      "execution_count": null,
      "id": "013827b0",
      "metadata": {
        "id": "013827b0",
        "outputId": "89fb01c4-671c-4af7-d992-401ff5b84889"
      },
      "outputs": [
        {
          "data": {
            "text/plain": [
              "array([ 7.   ,  8.375,  9.75 , 11.125, 12.5  , 13.875, 15.25 , 16.625,\n",
              "       18.   ])"
            ]
          },
          "execution_count": 38,
          "metadata": {},
          "output_type": "execute_result"
        }
      ],
      "source": [
        "np.linspace(7,18,9)"
      ]
    },
    {
      "cell_type": "code",
      "execution_count": null,
      "id": "76f766c6",
      "metadata": {
        "id": "76f766c6",
        "outputId": "11c9c0df-7765-4f51-ef09-6f044ebe3318"
      },
      "outputs": [
        {
          "data": {
            "text/plain": [
              "array([ 1.        ,  1.90909091,  2.81818182,  3.72727273,  4.63636364,\n",
              "        5.54545455,  6.45454545,  7.36363636,  8.27272727,  9.18181818,\n",
              "       10.09090909, 11.        ])"
            ]
          },
          "execution_count": 39,
          "metadata": {},
          "output_type": "execute_result"
        }
      ],
      "source": [
        "np.linspace(1,11,12)"
      ]
    },
    {
      "cell_type": "code",
      "execution_count": null,
      "id": "a1919031",
      "metadata": {
        "id": "a1919031",
        "outputId": "142c6757-6d3f-4e7b-fe84-5b236aa22b7f"
      },
      "outputs": [
        {
          "data": {
            "text/plain": [
              "array([[1., 0., 0., 0., 0., 0., 0.],\n",
              "       [0., 1., 0., 0., 0., 0., 0.],\n",
              "       [0., 0., 1., 0., 0., 0., 0.],\n",
              "       [0., 0., 0., 1., 0., 0., 0.],\n",
              "       [0., 0., 0., 0., 1., 0., 0.],\n",
              "       [0., 0., 0., 0., 0., 1., 0.],\n",
              "       [0., 0., 0., 0., 0., 0., 1.]])"
            ]
          },
          "execution_count": 40,
          "metadata": {},
          "output_type": "execute_result"
        }
      ],
      "source": [
        "np.eye(7)"
      ]
    },
    {
      "cell_type": "code",
      "execution_count": null,
      "id": "288252d6",
      "metadata": {
        "id": "288252d6",
        "outputId": "d88a6ffc-7d51-4189-f0f4-e9950b4d2d50"
      },
      "outputs": [
        {
          "data": {
            "text/plain": [
              "array([0.64033755, 0.00097125, 0.82294403, 0.85765549, 0.93616737,\n",
              "       0.88400586])"
            ]
          },
          "execution_count": 41,
          "metadata": {},
          "output_type": "execute_result"
        }
      ],
      "source": [
        "np.random.rand(6)"
      ]
    },
    {
      "cell_type": "code",
      "execution_count": null,
      "id": "1f4fe042",
      "metadata": {
        "id": "1f4fe042",
        "outputId": "c1b52c8e-9c44-4609-8590-051a0598a304"
      },
      "outputs": [
        {
          "data": {
            "text/plain": [
              "array([[0.32942215, 0.582403  , 0.13797912, 0.51922816, 0.53621457,\n",
              "        0.66794909],\n",
              "       [0.97136609, 0.28686853, 0.04576614, 0.39642854, 0.03888202,\n",
              "        0.8922563 ],\n",
              "       [0.34799863, 0.3981054 , 0.39890316, 0.66794039, 0.14566001,\n",
              "        0.23657538],\n",
              "       [0.87807832, 0.72740488, 0.55313391, 0.01086696, 0.62895206,\n",
              "        0.89363965],\n",
              "       [0.66379854, 0.80262025, 0.49418463, 0.04502896, 0.43710589,\n",
              "        0.65029398],\n",
              "       [0.47132376, 0.4642948 , 0.91849043, 0.58980329, 0.34192581,\n",
              "        0.26152087]])"
            ]
          },
          "execution_count": 42,
          "metadata": {},
          "output_type": "execute_result"
        }
      ],
      "source": [
        "np.random.rand(6,6)"
      ]
    },
    {
      "cell_type": "code",
      "execution_count": null,
      "id": "e7fda575",
      "metadata": {
        "id": "e7fda575",
        "outputId": "753ad60d-e071-4aa5-b721-f5c3f2ff2a74"
      },
      "outputs": [
        {
          "data": {
            "text/plain": [
              "array([[-0.3241387 ,  2.29682658,  0.20026568,  0.72471655,  1.11013345,\n",
              "        -2.23821014,  1.79459388],\n",
              "       [ 0.19624125,  0.71736821,  1.7567098 ,  0.69030743,  0.21941941,\n",
              "         0.12052781,  0.61755178],\n",
              "       [ 0.3624653 , -0.18458584, -0.77695772, -0.30499742, -0.68597661,\n",
              "        -0.59098301, -1.46630582],\n",
              "       [ 1.50808249, -0.67480168,  0.05531001,  0.32159924,  0.21419583,\n",
              "         1.86908727, -0.34817207],\n",
              "       [-0.74790621, -1.00980671, -0.36115352,  1.0247586 , -0.79905735,\n",
              "        -1.0112269 ,  0.19170372],\n",
              "       [ 0.7381096 , -0.1554141 , -2.29402604,  0.83428663, -0.10084607,\n",
              "         0.64161554,  0.87468588]])"
            ]
          },
          "execution_count": 44,
          "metadata": {},
          "output_type": "execute_result"
        }
      ],
      "source": [
        "np.random.randn(6,7)"
      ]
    },
    {
      "cell_type": "code",
      "execution_count": null,
      "id": "cffa74ce",
      "metadata": {
        "id": "cffa74ce",
        "outputId": "0e4ffab2-ff7c-4cd0-cd07-1687be7c64e9"
      },
      "outputs": [
        {
          "data": {
            "text/plain": [
              "44"
            ]
          },
          "execution_count": 45,
          "metadata": {},
          "output_type": "execute_result"
        }
      ],
      "source": [
        "np.random.randint(6,54)"
      ]
    },
    {
      "cell_type": "code",
      "execution_count": null,
      "id": "1399a447",
      "metadata": {
        "id": "1399a447",
        "outputId": "e9df1374-5fe3-4624-9bbb-958f08b096c6"
      },
      "outputs": [
        {
          "data": {
            "text/plain": [
              "array([17, 13, 28,  7, 29, 26, 21, 24])"
            ]
          },
          "execution_count": 51,
          "metadata": {},
          "output_type": "execute_result"
        }
      ],
      "source": [
        "np.random.randint(6,45,8)"
      ]
    },
    {
      "cell_type": "code",
      "execution_count": null,
      "id": "5d4f6c9d",
      "metadata": {
        "id": "5d4f6c9d"
      },
      "outputs": [],
      "source": [
        "arr5=np.random.randint(6,45,8)"
      ]
    },
    {
      "cell_type": "code",
      "execution_count": null,
      "id": "e7af710b",
      "metadata": {
        "id": "e7af710b",
        "outputId": "ce8b8acb-ba3f-4013-9b8d-9def1d73c283"
      },
      "outputs": [
        {
          "data": {
            "text/plain": [
              "array([35, 16, 21,  6, 39, 12,  9, 16])"
            ]
          },
          "execution_count": 53,
          "metadata": {},
          "output_type": "execute_result"
        }
      ],
      "source": [
        "arr5"
      ]
    },
    {
      "cell_type": "code",
      "execution_count": null,
      "id": "60e1576c",
      "metadata": {
        "id": "60e1576c",
        "outputId": "4061ad0e-2d8f-4542-8a53-44badb022f40"
      },
      "outputs": [
        {
          "data": {
            "text/plain": [
              "39"
            ]
          },
          "execution_count": 54,
          "metadata": {},
          "output_type": "execute_result"
        }
      ],
      "source": [
        "arr5.max()"
      ]
    },
    {
      "cell_type": "code",
      "execution_count": null,
      "id": "89a333e1",
      "metadata": {
        "id": "89a333e1",
        "outputId": "dd639557-7a0a-43a0-92c4-85b830a1abe0"
      },
      "outputs": [
        {
          "data": {
            "text/plain": [
              "6"
            ]
          },
          "execution_count": 55,
          "metadata": {},
          "output_type": "execute_result"
        }
      ],
      "source": [
        "arr5.min()"
      ]
    },
    {
      "cell_type": "code",
      "execution_count": null,
      "id": "d79702e9",
      "metadata": {
        "id": "d79702e9",
        "outputId": "47247a77-90e6-4971-fd2b-80a664e1f4e7"
      },
      "outputs": [
        {
          "data": {
            "text/plain": [
              "4"
            ]
          },
          "execution_count": 56,
          "metadata": {},
          "output_type": "execute_result"
        }
      ],
      "source": [
        "arr5.argmax()"
      ]
    },
    {
      "cell_type": "code",
      "execution_count": null,
      "id": "851e0031",
      "metadata": {
        "id": "851e0031",
        "outputId": "f39430e3-e889-4d6d-bbb3-26211854c22a"
      },
      "outputs": [
        {
          "data": {
            "text/plain": [
              "3"
            ]
          },
          "execution_count": 57,
          "metadata": {},
          "output_type": "execute_result"
        }
      ],
      "source": [
        "arr5.argmin()"
      ]
    },
    {
      "cell_type": "code",
      "execution_count": null,
      "id": "0d658902",
      "metadata": {
        "id": "0d658902",
        "outputId": "7cc86557-5535-4cf2-b213-56cff3dd906e"
      },
      "outputs": [
        {
          "data": {
            "text/plain": [
              "6"
            ]
          },
          "execution_count": 59,
          "metadata": {},
          "output_type": "execute_result"
        }
      ],
      "source": [
        "arr5.min()"
      ]
    },
    {
      "cell_type": "code",
      "execution_count": null,
      "id": "32859134",
      "metadata": {
        "id": "32859134"
      },
      "outputs": [],
      "source": [
        ""
      ]
    }
  ],
  "metadata": {
    "kernelspec": {
      "display_name": "Python 3",
      "language": "python",
      "name": "python3"
    },
    "language_info": {
      "codemirror_mode": {
        "name": "ipython",
        "version": 3
      },
      "file_extension": ".py",
      "mimetype": "text/x-python",
      "name": "python",
      "nbconvert_exporter": "python",
      "pygments_lexer": "ipython3",
      "version": "3.8.8"
    },
    "colab": {
      "name": "Numpy.ipynb",
      "provenance": []
    }
  },
  "nbformat": 4,
  "nbformat_minor": 5
}